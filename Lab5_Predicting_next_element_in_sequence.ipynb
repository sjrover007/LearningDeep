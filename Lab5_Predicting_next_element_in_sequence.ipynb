{
  "nbformat": 4,
  "nbformat_minor": 0,
  "metadata": {
    "colab": {
      "provenance": [],
      "authorship_tag": "ABX9TyPbxSjrWNxM4/86xOfIjrIN",
      "include_colab_link": true
    },
    "kernelspec": {
      "name": "python3",
      "display_name": "Python 3"
    },
    "language_info": {
      "name": "python"
    }
  },
  "cells": [
    {
      "cell_type": "markdown",
      "metadata": {
        "id": "view-in-github",
        "colab_type": "text"
      },
      "source": [
        "<a href=\"https://colab.research.google.com/github/sjrover007/LearningDeep/blob/main/Lab5_Predicting_next_element_in_sequence.ipynb\" target=\"_parent\"><img src=\"https://colab.research.google.com/assets/colab-badge.svg\" alt=\"Open In Colab\"/></a>"
      ]
    },
    {
      "cell_type": "markdown",
      "source": [
        "This code implements RNN to learn a simple sequence and predict the next element in the sequence , input seq.[2,4,6,8,10],y=12"
      ],
      "metadata": {
        "id": "sRPTC6AkzbuY"
      }
    },
    {
      "cell_type": "code",
      "source": [
        "import numpy as np\n",
        "from tensorflow.keras.models import Sequential\n",
        "from tensorflow.keras.layers import SimpleRNN, Dense"
      ],
      "metadata": {
        "id": "amfDLLqH170n"
      },
      "execution_count": null,
      "outputs": []
    },
    {
      "cell_type": "code",
      "source": [
        "#Generate some sample data\n",
        "x = np.array([[2*(i+j) for j in range(6)] for i in range(100)])\n",
        "y = np.array([2*i+12 for i in range(100)])\n",
        "\n",
        "x,y"
      ],
      "metadata": {
        "colab": {
          "base_uri": "https://localhost:8080/"
        },
        "id": "HSZCplaWjJbX",
        "outputId": "dcb362f7-1fdb-4ba2-d88f-2ba1ab49510d"
      },
      "execution_count": 32,
      "outputs": [
        {
          "output_type": "execute_result",
          "data": {
            "text/plain": [
              "(array([[  0,   2,   4,   6,   8,  10],\n",
              "        [  2,   4,   6,   8,  10,  12],\n",
              "        [  4,   6,   8,  10,  12,  14],\n",
              "        [  6,   8,  10,  12,  14,  16],\n",
              "        [  8,  10,  12,  14,  16,  18],\n",
              "        [ 10,  12,  14,  16,  18,  20],\n",
              "        [ 12,  14,  16,  18,  20,  22],\n",
              "        [ 14,  16,  18,  20,  22,  24],\n",
              "        [ 16,  18,  20,  22,  24,  26],\n",
              "        [ 18,  20,  22,  24,  26,  28],\n",
              "        [ 20,  22,  24,  26,  28,  30],\n",
              "        [ 22,  24,  26,  28,  30,  32],\n",
              "        [ 24,  26,  28,  30,  32,  34],\n",
              "        [ 26,  28,  30,  32,  34,  36],\n",
              "        [ 28,  30,  32,  34,  36,  38],\n",
              "        [ 30,  32,  34,  36,  38,  40],\n",
              "        [ 32,  34,  36,  38,  40,  42],\n",
              "        [ 34,  36,  38,  40,  42,  44],\n",
              "        [ 36,  38,  40,  42,  44,  46],\n",
              "        [ 38,  40,  42,  44,  46,  48],\n",
              "        [ 40,  42,  44,  46,  48,  50],\n",
              "        [ 42,  44,  46,  48,  50,  52],\n",
              "        [ 44,  46,  48,  50,  52,  54],\n",
              "        [ 46,  48,  50,  52,  54,  56],\n",
              "        [ 48,  50,  52,  54,  56,  58],\n",
              "        [ 50,  52,  54,  56,  58,  60],\n",
              "        [ 52,  54,  56,  58,  60,  62],\n",
              "        [ 54,  56,  58,  60,  62,  64],\n",
              "        [ 56,  58,  60,  62,  64,  66],\n",
              "        [ 58,  60,  62,  64,  66,  68],\n",
              "        [ 60,  62,  64,  66,  68,  70],\n",
              "        [ 62,  64,  66,  68,  70,  72],\n",
              "        [ 64,  66,  68,  70,  72,  74],\n",
              "        [ 66,  68,  70,  72,  74,  76],\n",
              "        [ 68,  70,  72,  74,  76,  78],\n",
              "        [ 70,  72,  74,  76,  78,  80],\n",
              "        [ 72,  74,  76,  78,  80,  82],\n",
              "        [ 74,  76,  78,  80,  82,  84],\n",
              "        [ 76,  78,  80,  82,  84,  86],\n",
              "        [ 78,  80,  82,  84,  86,  88],\n",
              "        [ 80,  82,  84,  86,  88,  90],\n",
              "        [ 82,  84,  86,  88,  90,  92],\n",
              "        [ 84,  86,  88,  90,  92,  94],\n",
              "        [ 86,  88,  90,  92,  94,  96],\n",
              "        [ 88,  90,  92,  94,  96,  98],\n",
              "        [ 90,  92,  94,  96,  98, 100],\n",
              "        [ 92,  94,  96,  98, 100, 102],\n",
              "        [ 94,  96,  98, 100, 102, 104],\n",
              "        [ 96,  98, 100, 102, 104, 106],\n",
              "        [ 98, 100, 102, 104, 106, 108],\n",
              "        [100, 102, 104, 106, 108, 110],\n",
              "        [102, 104, 106, 108, 110, 112],\n",
              "        [104, 106, 108, 110, 112, 114],\n",
              "        [106, 108, 110, 112, 114, 116],\n",
              "        [108, 110, 112, 114, 116, 118],\n",
              "        [110, 112, 114, 116, 118, 120],\n",
              "        [112, 114, 116, 118, 120, 122],\n",
              "        [114, 116, 118, 120, 122, 124],\n",
              "        [116, 118, 120, 122, 124, 126],\n",
              "        [118, 120, 122, 124, 126, 128],\n",
              "        [120, 122, 124, 126, 128, 130],\n",
              "        [122, 124, 126, 128, 130, 132],\n",
              "        [124, 126, 128, 130, 132, 134],\n",
              "        [126, 128, 130, 132, 134, 136],\n",
              "        [128, 130, 132, 134, 136, 138],\n",
              "        [130, 132, 134, 136, 138, 140],\n",
              "        [132, 134, 136, 138, 140, 142],\n",
              "        [134, 136, 138, 140, 142, 144],\n",
              "        [136, 138, 140, 142, 144, 146],\n",
              "        [138, 140, 142, 144, 146, 148],\n",
              "        [140, 142, 144, 146, 148, 150],\n",
              "        [142, 144, 146, 148, 150, 152],\n",
              "        [144, 146, 148, 150, 152, 154],\n",
              "        [146, 148, 150, 152, 154, 156],\n",
              "        [148, 150, 152, 154, 156, 158],\n",
              "        [150, 152, 154, 156, 158, 160],\n",
              "        [152, 154, 156, 158, 160, 162],\n",
              "        [154, 156, 158, 160, 162, 164],\n",
              "        [156, 158, 160, 162, 164, 166],\n",
              "        [158, 160, 162, 164, 166, 168],\n",
              "        [160, 162, 164, 166, 168, 170],\n",
              "        [162, 164, 166, 168, 170, 172],\n",
              "        [164, 166, 168, 170, 172, 174],\n",
              "        [166, 168, 170, 172, 174, 176],\n",
              "        [168, 170, 172, 174, 176, 178],\n",
              "        [170, 172, 174, 176, 178, 180],\n",
              "        [172, 174, 176, 178, 180, 182],\n",
              "        [174, 176, 178, 180, 182, 184],\n",
              "        [176, 178, 180, 182, 184, 186],\n",
              "        [178, 180, 182, 184, 186, 188],\n",
              "        [180, 182, 184, 186, 188, 190],\n",
              "        [182, 184, 186, 188, 190, 192],\n",
              "        [184, 186, 188, 190, 192, 194],\n",
              "        [186, 188, 190, 192, 194, 196],\n",
              "        [188, 190, 192, 194, 196, 198],\n",
              "        [190, 192, 194, 196, 198, 200],\n",
              "        [192, 194, 196, 198, 200, 202],\n",
              "        [194, 196, 198, 200, 202, 204],\n",
              "        [196, 198, 200, 202, 204, 206],\n",
              "        [198, 200, 202, 204, 206, 208]]),\n",
              " array([ 12,  14,  16,  18,  20,  22,  24,  26,  28,  30,  32,  34,  36,\n",
              "         38,  40,  42,  44,  46,  48,  50,  52,  54,  56,  58,  60,  62,\n",
              "         64,  66,  68,  70,  72,  74,  76,  78,  80,  82,  84,  86,  88,\n",
              "         90,  92,  94,  96,  98, 100, 102, 104, 106, 108, 110, 112, 114,\n",
              "        116, 118, 120, 122, 124, 126, 128, 130, 132, 134, 136, 138, 140,\n",
              "        142, 144, 146, 148, 150, 152, 154, 156, 158, 160, 162, 164, 166,\n",
              "        168, 170, 172, 174, 176, 178, 180, 182, 184, 186, 188, 190, 192,\n",
              "        194, 196, 198, 200, 202, 204, 206, 208, 210]))"
            ]
          },
          "metadata": {},
          "execution_count": 32
        }
      ]
    },
    {
      "cell_type": "code",
      "source": [
        "# Reshape the data for RNN input\n",
        "x = x.reshape(x.shape[0], x.shape[1], 1)\n",
        "x.shape"
      ],
      "metadata": {
        "colab": {
          "base_uri": "https://localhost:8080/"
        },
        "id": "pF22G8CJwZ0t",
        "outputId": "5a0991cc-cc59-4127-f5c1-445d9c8c48fb"
      },
      "execution_count": 33,
      "outputs": [
        {
          "output_type": "execute_result",
          "data": {
            "text/plain": [
              "(100, 6, 1)"
            ]
          },
          "metadata": {},
          "execution_count": 33
        }
      ]
    },
    {
      "cell_type": "code",
      "source": [
        "#Define the RNN model\n",
        "model = Sequential([SimpleRNN(\n",
        "    units=128,\n",
        "    input_shape=(x.shape[1], x.shape[2]),\n",
        "    activation= 'relu'\n",
        "    ),\n",
        "    Dense(1)])"
      ],
      "metadata": {
        "id": "94N4hLeKwndp"
      },
      "execution_count": 34,
      "outputs": []
    },
    {
      "cell_type": "code",
      "source": [
        "#compile the model\n",
        "model.compile(optimizer='adam', loss='mse')"
      ],
      "metadata": {
        "id": "4oD3j9a7xNl9"
      },
      "execution_count": 35,
      "outputs": []
    },
    {
      "cell_type": "code",
      "source": [
        "#Train the model\n",
        "model.fit(x, y, epochs=20, batch_size=10)"
      ],
      "metadata": {
        "colab": {
          "base_uri": "https://localhost:8080/"
        },
        "id": "hvfidBdfxbct",
        "outputId": "fa09eb1b-b998-4637-cd7f-89999586af1a"
      },
      "execution_count": 36,
      "outputs": [
        {
          "output_type": "stream",
          "name": "stdout",
          "text": [
            "Epoch 1/20\n",
            "10/10 [==============================] - 1s 5ms/step - loss: 8663.0752\n",
            "Epoch 2/20\n",
            "10/10 [==============================] - 0s 5ms/step - loss: 653.5505\n",
            "Epoch 3/20\n",
            "10/10 [==============================] - 0s 6ms/step - loss: 320.9008\n",
            "Epoch 4/20\n",
            "10/10 [==============================] - 0s 5ms/step - loss: 170.1004\n",
            "Epoch 5/20\n",
            "10/10 [==============================] - 0s 6ms/step - loss: 30.1298\n",
            "Epoch 6/20\n",
            "10/10 [==============================] - 0s 5ms/step - loss: 15.9408\n",
            "Epoch 7/20\n",
            "10/10 [==============================] - 0s 8ms/step - loss: 10.5650\n",
            "Epoch 8/20\n",
            "10/10 [==============================] - 0s 8ms/step - loss: 7.4707\n",
            "Epoch 9/20\n",
            "10/10 [==============================] - 0s 10ms/step - loss: 6.3053\n",
            "Epoch 10/20\n",
            "10/10 [==============================] - 0s 7ms/step - loss: 5.3213\n",
            "Epoch 11/20\n",
            "10/10 [==============================] - 0s 6ms/step - loss: 4.7574\n",
            "Epoch 12/20\n",
            "10/10 [==============================] - 0s 6ms/step - loss: 4.7527\n",
            "Epoch 13/20\n",
            "10/10 [==============================] - 0s 7ms/step - loss: 4.8545\n",
            "Epoch 14/20\n",
            "10/10 [==============================] - 0s 7ms/step - loss: 4.7096\n",
            "Epoch 15/20\n",
            "10/10 [==============================] - 0s 6ms/step - loss: 4.6581\n",
            "Epoch 16/20\n",
            "10/10 [==============================] - 0s 6ms/step - loss: 4.6656\n",
            "Epoch 17/20\n",
            "10/10 [==============================] - 0s 5ms/step - loss: 4.6437\n",
            "Epoch 18/20\n",
            "10/10 [==============================] - 0s 7ms/step - loss: 4.5509\n",
            "Epoch 19/20\n",
            "10/10 [==============================] - 0s 6ms/step - loss: 4.5197\n",
            "Epoch 20/20\n",
            "10/10 [==============================] - 0s 6ms/step - loss: 4.4861\n"
          ]
        },
        {
          "output_type": "execute_result",
          "data": {
            "text/plain": [
              "<keras.src.callbacks.History at 0x78b375fbba30>"
            ]
          },
          "metadata": {},
          "execution_count": 36
        }
      ]
    },
    {
      "cell_type": "code",
      "source": [
        "#Test the model\n",
        "test_input = np.array([[2*(i+j) for j in range(6)] for i in range(100,120)])\n",
        "test_input = test_input.reshape(test_input.shape[0], test_input.shape[1], 1)\n",
        "predicted_output = model.predict(test_input)"
      ],
      "metadata": {
        "colab": {
          "base_uri": "https://localhost:8080/"
        },
        "id": "Ef_4yGguxpb5",
        "outputId": "3d7f8239-6cf1-48c3-9033-463638b6a5c5"
      },
      "execution_count": 37,
      "outputs": [
        {
          "output_type": "stream",
          "name": "stdout",
          "text": [
            "1/1 [==============================] - 0s 274ms/step\n"
          ]
        }
      ]
    },
    {
      "cell_type": "code",
      "source": [
        "#Print the predicted output\n",
        "print(\"Predicted Output:\")\n",
        "print(predicted_output.flatten())"
      ],
      "metadata": {
        "colab": {
          "base_uri": "https://localhost:8080/"
        },
        "id": "n_7wCF6oyROg",
        "outputId": "2deed765-43ad-4529-ad5c-ac9fedddc355"
      },
      "execution_count": 38,
      "outputs": [
        {
          "output_type": "stream",
          "name": "stdout",
          "text": [
            "Predicted Output:\n",
            "[214.77946 216.84785 218.91621 220.98457 223.05298 225.12134 227.18971\n",
            " 229.2581  231.32649 233.39484 235.46323 237.5316  239.59998 241.66835\n",
            " 243.73671 245.8051  247.87349 249.94185 252.01025 254.07861]\n"
          ]
        }
      ]
    },
    {
      "cell_type": "markdown",
      "source": [
        "**ALPHABET prediction model using RNN**"
      ],
      "metadata": {
        "id": "3mZ6UUte0bkw"
      }
    },
    {
      "cell_type": "code",
      "source": [
        "import numpy as np\n",
        "from tensorflow.keras.models import Sequential\n",
        "from tensorflow.keras.layers import SimpleRNN, Dense"
      ],
      "metadata": {
        "id": "iObZZdUv2Ag8"
      },
      "execution_count": 63,
      "outputs": []
    },
    {
      "cell_type": "code",
      "source": [
        "#Generate some sample data\n",
        "alphabet = \"abcdefghijklmnopqrstuvwxyz\"\n",
        "char_to_int = dict((c, i) for i, c in enumerate(alphabet))\n",
        "int_to_char = dict((i, c) for i, c in enumerate(alphabet))\n",
        "\n",
        "#char_to_int,int_to_char"
      ],
      "metadata": {
        "id": "RScbJ1sW2G-0"
      },
      "execution_count": 64,
      "outputs": []
    },
    {
      "cell_type": "code",
      "source": [
        "data = []\n",
        "for i in range(len(alphabet) - 1):\n",
        "  data.append([char_to_int[alphabet[i]], char_to_int[alphabet[i+1]]])\n",
        "x = np.array(data)\n",
        "y = np.array(data)[:,1]\n",
        "x,y"
      ],
      "metadata": {
        "colab": {
          "base_uri": "https://localhost:8080/"
        },
        "id": "-5RE25Ag2o6G",
        "outputId": "7064a55f-d0ce-44d6-a1cf-1a2d3cfdc2ec"
      },
      "execution_count": 65,
      "outputs": [
        {
          "output_type": "execute_result",
          "data": {
            "text/plain": [
              "(array([[ 0,  1],\n",
              "        [ 1,  2],\n",
              "        [ 2,  3],\n",
              "        [ 3,  4],\n",
              "        [ 4,  5],\n",
              "        [ 5,  6],\n",
              "        [ 6,  7],\n",
              "        [ 7,  8],\n",
              "        [ 8,  9],\n",
              "        [ 9, 10],\n",
              "        [10, 11],\n",
              "        [11, 12],\n",
              "        [12, 13],\n",
              "        [13, 14],\n",
              "        [14, 15],\n",
              "        [15, 16],\n",
              "        [16, 17],\n",
              "        [17, 18],\n",
              "        [18, 19],\n",
              "        [19, 20],\n",
              "        [20, 21],\n",
              "        [21, 22],\n",
              "        [22, 23],\n",
              "        [23, 24],\n",
              "        [24, 25]]),\n",
              " array([ 1,  2,  3,  4,  5,  6,  7,  8,  9, 10, 11, 12, 13, 14, 15, 16, 17,\n",
              "        18, 19, 20, 21, 22, 23, 24, 25]))"
            ]
          },
          "metadata": {},
          "execution_count": 65
        }
      ]
    },
    {
      "cell_type": "code",
      "source": [
        "# Reshape the data for RNN input\n",
        "x = x.reshape(x.shape[0], x.shape[1], 1)\n",
        "x.shape"
      ],
      "metadata": {
        "colab": {
          "base_uri": "https://localhost:8080/"
        },
        "id": "FBIYDdoX3KYF",
        "outputId": "82bb1b9a-7883-440b-e3f6-b042612dee57"
      },
      "execution_count": 66,
      "outputs": [
        {
          "output_type": "execute_result",
          "data": {
            "text/plain": [
              "(25, 2, 1)"
            ]
          },
          "metadata": {},
          "execution_count": 66
        }
      ]
    },
    {
      "cell_type": "code",
      "source": [
        "#Define the RNN model\n",
        "model = Sequential([\n",
        "    SimpleRNN(\n",
        "    units=128,\n",
        "    input_shape=(x.shape[1], x.shape[2]),\n",
        "    activation= 'softmax'\n",
        "    ),\n",
        "    Dense(len(alphabet))])"
      ],
      "metadata": {
        "id": "R28zLvye3Ufd"
      },
      "execution_count": 71,
      "outputs": []
    },
    {
      "cell_type": "code",
      "source": [
        "#compile the model\n",
        "model.compile(optimizer='adam', loss='sparse_categorical_crossentropy')"
      ],
      "metadata": {
        "id": "SUV0t2HwG6oW"
      },
      "execution_count": 77,
      "outputs": []
    },
    {
      "cell_type": "code",
      "source": [
        "\n",
        "#Train the model\n",
        "model.fit(x, y, epochs=10, batch_size=8)"
      ],
      "metadata": {
        "colab": {
          "base_uri": "https://localhost:8080/"
        },
        "id": "lVOIUKQcG-PM",
        "outputId": "34dd1319-6ca9-42bd-c92b-0aab205d04a5"
      },
      "execution_count": 73,
      "outputs": [
        {
          "output_type": "stream",
          "name": "stdout",
          "text": [
            "Epoch 1/10\n",
            "4/4 [==============================] - 1s 7ms/step - loss: 10.3267\n",
            "Epoch 2/10\n",
            "4/4 [==============================] - 0s 5ms/step - loss: 9.8687\n",
            "Epoch 3/10\n",
            "4/4 [==============================] - 0s 5ms/step - loss: 9.2537\n",
            "Epoch 4/10\n",
            "4/4 [==============================] - 0s 5ms/step - loss: 7.2917\n",
            "Epoch 5/10\n",
            "4/4 [==============================] - 0s 5ms/step - loss: 6.4703\n",
            "Epoch 6/10\n",
            "4/4 [==============================] - 0s 5ms/step - loss: 6.4360\n",
            "Epoch 7/10\n",
            "4/4 [==============================] - 0s 7ms/step - loss: 5.5266\n",
            "Epoch 8/10\n",
            "4/4 [==============================] - 0s 5ms/step - loss: 4.4439\n",
            "Epoch 9/10\n",
            "4/4 [==============================] - 0s 6ms/step - loss: 3.2581\n",
            "Epoch 10/10\n",
            "4/4 [==============================] - 0s 6ms/step - loss: 3.2581\n"
          ]
        },
        {
          "output_type": "execute_result",
          "data": {
            "text/plain": [
              "<keras.src.callbacks.History at 0x78b376823340>"
            ]
          },
          "metadata": {},
          "execution_count": 73
        }
      ]
    },
    {
      "cell_type": "code",
      "source": [
        "#modify model to accept current shape of test data\n",
        "model = Sequential([\n",
        "    SimpleRNN(\n",
        "    units=128,\n",
        "    input_shape=(test_input.shape[1], test_input.shape[2]),\n",
        "    activation= 'softmax'\n",
        "    ),\n",
        "    Dense(len(alphabet))])"
      ],
      "metadata": {
        "id": "uM09UGlpLYgz"
      },
      "execution_count": 76,
      "outputs": []
    },
    {
      "cell_type": "code",
      "source": [
        "#Test the model\n",
        "test_input = np.array([[char_to_int[alphabet[i]]] for i in range(10,25)])\n",
        "test_input = test_input.reshape(test_input.shape[0], test_input.shape[1], 1)\n",
        "\n",
        "# Reshape the test data to match the expected input shape\n",
        "test_input = np.expand_dims(test_input, axis=1)\n",
        "#test_input\n",
        "predicted_output = model.predict(test_input)"
      ],
      "metadata": {
        "colab": {
          "base_uri": "https://localhost:8080/"
        },
        "id": "qEZNOCX5HDgN",
        "outputId": "8fe1558f-33b4-416c-e78a-4c5ba3ec3c79"
      },
      "execution_count": 78,
      "outputs": [
        {
          "output_type": "stream",
          "name": "stdout",
          "text": [
            "1/1 [==============================] - 0s 286ms/step\n"
          ]
        }
      ]
    },
    {
      "cell_type": "code",
      "source": [
        "#Print the predicted output\n",
        "print(\"Predicted Output:\")\n",
        "for i in range(len(predicted_output)):\n",
        "  predicted_char = int_to_char[np.argmax(predicted_output[i])]\n",
        "  print(predicted_char)"
      ],
      "metadata": {
        "colab": {
          "base_uri": "https://localhost:8080/"
        },
        "id": "X0mxM7-vHc6R",
        "outputId": "c28e2786-df41-4e94-afb1-4349894cd7a1"
      },
      "execution_count": 79,
      "outputs": [
        {
          "output_type": "stream",
          "name": "stdout",
          "text": [
            "Predicted Output:\n",
            "n\n",
            "n\n",
            "n\n",
            "n\n",
            "n\n",
            "n\n",
            "n\n",
            "n\n",
            "n\n",
            "n\n",
            "n\n",
            "n\n",
            "n\n",
            "n\n",
            "n\n"
          ]
        }
      ]
    }
  ]
}