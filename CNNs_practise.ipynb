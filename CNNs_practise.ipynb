{
  "nbformat": 4,
  "nbformat_minor": 0,
  "metadata": {
    "colab": {
      "provenance": [],
      "authorship_tag": "ABX9TyOPWqUg44NOoQjnLW6x0JCe",
      "include_colab_link": true
    },
    "kernelspec": {
      "name": "python3",
      "display_name": "Python 3"
    },
    "language_info": {
      "name": "python"
    }
  },
  "cells": [
    {
      "cell_type": "markdown",
      "metadata": {
        "id": "view-in-github",
        "colab_type": "text"
      },
      "source": [
        "<a href=\"https://colab.research.google.com/github/sjrover007/LearningDeep/blob/main/CNNs_practise.ipynb\" target=\"_parent\"><img src=\"https://colab.research.google.com/assets/colab-badge.svg\" alt=\"Open In Colab\"/></a>"
      ]
    },
    {
      "cell_type": "code",
      "execution_count": null,
      "metadata": {
        "colab": {
          "base_uri": "https://localhost:8080/"
        },
        "id": "1BUiGiRNGrXB",
        "outputId": "d082bc20-d6c5-45f0-c0dc-45de6a4272ee"
      },
      "outputs": [
        {
          "output_type": "stream",
          "name": "stdout",
          "text": [
            "[-6, -6]\n",
            "[-6, -6]\n"
          ]
        }
      ],
      "source": [
        "def convolution2D(input_image, kernel):\n",
        "    input_height, input_width = len(input_image), len(input_image[0])\n",
        "    kernel_height, kernel_width = len(kernel), len(kernel[0])\n",
        "\n",
        "    output_height = input_height - kernel_height + 1\n",
        "    output_width = input_width - kernel_width + 1\n",
        "\n",
        "    # Initialize the output image\n",
        "    output_image = [[0 for _ in range(output_width)] for _ in range(output_height)]\n",
        "\n",
        "    # Perform the convolution\n",
        "    for i in range(output_height):\n",
        "        for j in range(output_width):\n",
        "            # Compute the dot product between the kernel and the input region\n",
        "            dot_product = 0\n",
        "            for m in range(kernel_height):\n",
        "                for n in range(kernel_width):\n",
        "                    dot_product += input_image[i+m][j+n] * kernel[m][n]\n",
        "            output_image[i][j] = dot_product\n",
        "\n",
        "    return output_image\n",
        "\n",
        "# Define a sample 2D image and a 3x3 kernel\n",
        "input_image = [\n",
        "    [1, 2, 3, 4],\n",
        "    [5, 6, 7, 8],\n",
        "    [9, 10, 11, 12],\n",
        "    [13, 14, 15, 16]\n",
        "]\n",
        "\n",
        "kernel = [\n",
        "    [1, 0, -1],\n",
        "    [1, 0, -1],\n",
        "    [1, 0, -1]\n",
        "]\n",
        "\n",
        "# Perform convolution\n",
        "output_image = convolution2D(input_image, kernel)\n",
        "\n",
        "# Print the result\n",
        "for row in output_image:\n",
        "    print(row)"
      ]
    },
    {
      "cell_type": "code",
      "source": [
        "import numpy as np\n",
        "a=np.ones((3,4),dtype=int)\n",
        "a"
      ],
      "metadata": {
        "colab": {
          "base_uri": "https://localhost:8080/"
        },
        "id": "WAQcc7BeHDZD",
        "outputId": "bb383d57-c8a5-4a24-8794-0a33c58d3c98"
      },
      "execution_count": null,
      "outputs": [
        {
          "output_type": "execute_result",
          "data": {
            "text/plain": [
              "array([[1, 1, 1, 1],\n",
              "       [1, 1, 1, 1],\n",
              "       [1, 1, 1, 1]])"
            ]
          },
          "metadata": {},
          "execution_count": 2
        }
      ]
    },
    {
      "cell_type": "code",
      "source": [
        "import numpy as np\n",
        "\n",
        "def convolution2D(input_image, kernel):\n",
        "    input_height, input_width = input_image.shape\n",
        "    kernel_height, kernel_width = kernel.shape\n",
        "\n",
        "    output_height = input_height - kernel_height + 1\n",
        "    output_width = input_width - kernel_width + 1\n",
        "\n",
        "    # Initialize the output image\n",
        "    output_image = np.zeros((output_height, output_width))\n",
        "\n",
        "    # Perform the convolution\n",
        "    for i in range(output_height):\n",
        "        for j in range(output_width):\n",
        "            output_image[i, j] = np.sum(input_image[i:i+kernel_height, j:j+kernel_width] * kernel)\n",
        "\n",
        "    return output_image\n",
        "\n",
        "def max_pooling2D(input_image, pool_size):\n",
        "    input_height, input_width = input_image.shape\n",
        "    pool_height, pool_width = pool_size\n",
        "\n",
        "    output_height = input_height // pool_height\n",
        "    output_width = input_width // pool_width\n",
        "\n",
        "    # Initialize the output image\n",
        "    output_image = np.zeros((output_height, output_width))\n",
        "\n",
        "    # Perform max pooling\n",
        "    for i in range(output_height):\n",
        "        for j in range(output_width):\n",
        "            output_image[i, j] = np.max(input_image[i*pool_height:(i+1)*pool_height, j*pool_width:(j+1)*pool_width])\n",
        "\n",
        "    return output_image\n",
        "\n",
        "# Sample input image\n",
        "input_image = np.array([[1, 2, 1, 0],\n",
        "                        [0, 1, 3, 2],\n",
        "                        [2, 0, 1, 2],\n",
        "                        [1, 2, 2, 1]])\n",
        "\n",
        "# Sample kernel\n",
        "kernel = np.array([[1, 0, -1],\n",
        "                   [1, 0, -1],\n",
        "                   [1, 0, -1]])\n",
        "\n",
        "# Sample max pooling size\n",
        "pool_size = (2, 2)\n",
        "\n",
        "# Perform convolution\n",
        "conv_output = convolution2D(input_image, kernel)\n",
        "\n",
        "# Perform max pooling\n",
        "pool_output = max_pooling2D(conv_output, pool_size)\n",
        "\n",
        "# Print the results\n",
        "print(\"Convolution output:\")\n",
        "print(conv_output)\n",
        "\n",
        "print(\"\\nMax pooling output:\")\n",
        "print(pool_output)"
      ],
      "metadata": {
        "colab": {
          "base_uri": "https://localhost:8080/"
        },
        "id": "oQ19rWHnHSUz",
        "outputId": "1a5ff957-d343-4afd-d90e-c6b06ff665f2"
      },
      "execution_count": null,
      "outputs": [
        {
          "output_type": "stream",
          "name": "stdout",
          "text": [
            "Convolution output:\n",
            "[[-2. -1.]\n",
            " [-3. -2.]]\n",
            "\n",
            "Max pooling output:\n",
            "[[-1.]]\n"
          ]
        }
      ]
    },
    {
      "cell_type": "code",
      "source": [
        "import numpy as np\n",
        "import matplotlib.pyplot as plt\n",
        "from keras.models import Sequential\n",
        "from keras.layers import Conv2D, MaxPooling2D, Flatten, Dense\n",
        "from keras.datasets import mnist\n",
        "from keras.utils import to_categorical"
      ],
      "metadata": {
        "id": "SNWQqXzPHZhI"
      },
      "execution_count": null,
      "outputs": []
    },
    {
      "cell_type": "code",
      "source": [
        "# Load and preprocess the MNIST dataset\n",
        "(train_images, train_labels), (test_images, test_labels) = mnist.load_data()\n",
        "train_images = train_images.reshape((60000, 28, 28, 1)).astype('float32') / 255\n",
        "test_images = test_images.reshape((10000, 28, 28, 1)).astype('float32') / 255\n",
        "\n",
        "train_labels = to_categorical(train_labels)\n",
        "test_labels = to_categorical(test_labels)"
      ],
      "metadata": {
        "colab": {
          "base_uri": "https://localhost:8080/"
        },
        "id": "G8fcZY9JHbkS",
        "outputId": "1aae16aa-85ed-4eea-c0e9-ba84525fd611"
      },
      "execution_count": null,
      "outputs": [
        {
          "output_type": "stream",
          "name": "stdout",
          "text": [
            "Downloading data from https://storage.googleapis.com/tensorflow/tf-keras-datasets/mnist.npz\n",
            "11490434/11490434 [==============================] - 0s 0us/step\n"
          ]
        }
      ]
    },
    {
      "cell_type": "markdown",
      "source": [
        "**MaxPooling 2D**"
      ],
      "metadata": {
        "id": "mlms_a_AHicI"
      }
    },
    {
      "cell_type": "code",
      "source": [
        "# Build the CNN model\n",
        "model = Sequential()\n",
        "model.add(Conv2D(32, (3, 3), activation='relu', input_shape=(28, 28, 1)))\n",
        "model.add(MaxPooling2D((2, 2)))\n",
        "#model.add(Conv2D(64, (3, 3), activation='relu'))\n",
        "#model.add(MaxPooling2D((2, 2)))\n",
        "#model.add(Conv2D(64, (3, 3), activation='relu'))\n",
        "model.add(Flatten())\n",
        "model.add(Dense(64, activation='relu'))\n",
        "model.add(Dense(10, activation='softmax'))"
      ],
      "metadata": {
        "id": "L2kCS7nrHsN-"
      },
      "execution_count": null,
      "outputs": []
    },
    {
      "cell_type": "code",
      "source": [
        "# Compile the model\n",
        "model.compile(optimizer='adam', loss='categorical_crossentropy', metrics=['accuracy'])\n",
        "\n",
        "# Train the model\n",
        "model.fit(train_images, train_labels, epochs=5, batch_size=64, validation_split=0.2)"
      ],
      "metadata": {
        "colab": {
          "base_uri": "https://localhost:8080/"
        },
        "id": "_Y_zfwxhH3Hj",
        "outputId": "17384502-08c9-43f1-a939-1d024cdd527a"
      },
      "execution_count": null,
      "outputs": [
        {
          "output_type": "stream",
          "name": "stdout",
          "text": [
            "Epoch 1/5\n",
            "750/750 [==============================] - 42s 54ms/step - loss: 0.2330 - accuracy: 0.9324 - val_loss: 0.0956 - val_accuracy: 0.9721\n",
            "Epoch 2/5\n",
            "750/750 [==============================] - 21s 28ms/step - loss: 0.0716 - accuracy: 0.9785 - val_loss: 0.0767 - val_accuracy: 0.9768\n",
            "Epoch 3/5\n",
            "750/750 [==============================] - 24s 32ms/step - loss: 0.0501 - accuracy: 0.9849 - val_loss: 0.0577 - val_accuracy: 0.9832\n",
            "Epoch 4/5\n",
            "750/750 [==============================] - 22s 30ms/step - loss: 0.0368 - accuracy: 0.9886 - val_loss: 0.0553 - val_accuracy: 0.9843\n",
            "Epoch 5/5\n",
            "750/750 [==============================] - 23s 31ms/step - loss: 0.0282 - accuracy: 0.9914 - val_loss: 0.0587 - val_accuracy: 0.9837\n"
          ]
        },
        {
          "output_type": "execute_result",
          "data": {
            "text/plain": [
              "<keras.src.callbacks.History at 0x7be2d3723d90>"
            ]
          },
          "metadata": {},
          "execution_count": 7
        }
      ]
    },
    {
      "cell_type": "code",
      "source": [
        "# Evaluate the model on the test data\n",
        "test_loss, test_acc = model.evaluate(test_images, test_labels)\n",
        "print('Test accuracy:', test_acc)\n",
        "\n",
        "# Prediction on a single test image\n",
        "sample_image = test_images[3].reshape((1, 28, 28, 1))\n",
        "prediction = model.predict(sample_image)\n",
        "predicted_label = np.argmax(prediction)\n",
        "\n",
        "# Display the sample image and its predicted label\n",
        "plt.imshow(test_images[4].reshape((28, 28)), cmap='gray')\n",
        "plt.title(f\"Predicted Label: {predicted_label}\")\n",
        "plt.show()"
      ],
      "metadata": {
        "id": "P5XTrhd1IRLX",
        "outputId": "02769eec-fbf6-4ec4-d8ae-bd99b407f7e1",
        "colab": {
          "base_uri": "https://localhost:8080/",
          "height": 504
        }
      },
      "execution_count": null,
      "outputs": [
        {
          "output_type": "stream",
          "name": "stdout",
          "text": [
            "313/313 [==============================] - 3s 8ms/step - loss: 0.0562 - accuracy: 0.9818\n",
            "Test accuracy: 0.9818000197410583\n",
            "1/1 [==============================] - 0s 99ms/step\n"
          ]
        },
        {
          "output_type": "display_data",
          "data": {
            "text/plain": [
              "<Figure size 640x480 with 1 Axes>"
            ],
            "image/png": "[encoded data removed]"
          },
          "metadata": {}
        }
      ]
    }
  ]
}